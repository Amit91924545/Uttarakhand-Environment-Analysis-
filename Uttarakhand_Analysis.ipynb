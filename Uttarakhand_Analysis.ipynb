{
 "cells": [
  {
   "cell_type": "code",
   "execution_count": 1,
   "id": "196054c7",
   "metadata": {},
   "outputs": [],
   "source": [
    "import pandas as pd\n",
    "import matplotlib.pyplot as plt\n",
    "import seaborn as sns"
   ]
  },
  {
   "cell_type": "code",
   "execution_count": 2,
   "id": "fb0dce19",
   "metadata": {},
   "outputs": [],
   "source": [
    "# Load dataset\n",
    "file_path = \"uttarakhand_environment_20years.csv\"\n",
    "df = pd.read_csv(file_path)"
   ]
  },
  {
   "cell_type": "code",
   "execution_count": null,
   "id": "d191b58a",
   "metadata": {},
   "outputs": [],
   "source": [
    "# Display basic information about the dataset\n",
    "print(\"Dataset Info:\")\n",
    "print(df.info())\n",
    "print(\"\\nFirst 5 Rows:\")\n",
    "print(df.head())"
   ]
  },
  {
   "cell_type": "code",
   "execution_count": 4,
   "id": "6364976b",
   "metadata": {},
   "outputs": [],
   "source": [
    "# Convert Date column to datetime format if applicable\n",
    "df['Date'] = pd.to_datetime(df['Date'])"
   ]
  },
  {
   "cell_type": "code",
   "execution_count": null,
   "id": "765422ea",
   "metadata": {},
   "outputs": [],
   "source": [
    "# Plot Climate Conditions over the years\n",
    "plt.figure(figsize=(10, 5))\n",
    "sns.lineplot(x=df['Date'], y=df['Climatic_Conditions'].str.extract(r'(\\d+)')[0].astype(float))\n",
    "plt.title(\"Temperature Trend Over Years\")\n",
    "plt.xlabel(\"Year\")\n",
    "plt.ylabel(\"Temperature (°C)\")\n",
    "plt.grid()\n",
    "plt.show()"
   ]
  },
  {
   "cell_type": "code",
   "execution_count": null,
   "id": "a4d888ad",
   "metadata": {},
   "outputs": [],
   "source": [
    "# Urbanization vs. Pollution Analysis\n",
    "plt.figure(figsize=(10, 5))\n",
    "sns.scatterplot(x=df['Land_Use_Urbanization'].str.extract(r'(\\d+)')[0].astype(float), \n",
    "                y=df['Pollution_Environmental_Degradation'].str.extract(r'(\\d+)')[0].astype(float))\n",
    "plt.title(\"Urbanization vs Pollution Levels\")\n",
    "plt.xlabel(\"Urbanization (%)\")\n",
    "plt.ylabel(\"AQI Levels\")\n",
    "plt.show()"
   ]
  },
  {
   "cell_type": "code",
   "execution_count": null,
   "id": "3504a938",
   "metadata": {},
   "outputs": [],
   "source": [
    "# Correlation Heatmap\n",
    "plt.figure(figsize=(10, 6))\n",
    "df_numeric = df.drop(columns=['Region']).apply(lambda x: pd.to_numeric(x.str.extract(r'(\\d+)')[0], errors='coerce'))\n",
    "sns.heatmap(df_numeric.corr(), annot=True, cmap=\"coolwarm\", fmt=\".2f\")\n",
    "plt.title(\"Correlation Heatmap\")\n",
    "plt.show()"
   ]
  },
  {
   "cell_type": "code",
   "execution_count": null,
   "id": "be954f6f",
   "metadata": {},
   "outputs": [],
   "source": [
    "# Save cleaned dataset\n",
    "df.to_csv(\"uttarakhand_environment_cleaned.csv\", index=False)\n",
    "print(\"Cleaned dataset saved as uttarakhand_environment_cleaned.csv\")"
   ]
  }
 ],
 "metadata": {
  "kernelspec": {
   "display_name": "Python 3 (ipykernel)",
   "language": "python",
   "name": "python3"
  },
  "language_info": {
   "codemirror_mode": {
    "name": "ipython",
    "version": 3
   },
   "file_extension": ".py",
   "mimetype": "text/x-python",
   "name": "python",
   "nbconvert_exporter": "python",
   "pygments_lexer": "ipython3",
   "version": "3.11.2"
  }
 },
 "nbformat": 4,
 "nbformat_minor": 5
}
